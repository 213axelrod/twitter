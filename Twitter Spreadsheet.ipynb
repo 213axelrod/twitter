{
 "cells": [
  {
   "cell_type": "code",
   "execution_count": null,
   "metadata": {},
   "outputs": [],
   "source": [
    "import tweepy\n",
    "import csv\n",
    "import time\n",
    "import json\n",
    "\n",
    "# GLOBAL VARS\n",
    "consumer_key = '0qaazEZJ1xYoxS1oqI4pnzE2C'\n",
    "consumer_secret = 'LS2bt3rjvRd1Qim35hPBCsSFdWClwguxeP0NGkr9szth9ZeznU'\n",
    "access_token = '800780713750499329-uk5Z0ZtyQ110OMLmFBpXWUZQzNd1XZQ'\n",
    "access_token_secret = 'MlqazFfB8WDaa60EGEqiHl3n4xtz50StdNJqUoltT63u6'\n",
    "# https://developer.twitter.com/en/apps/18095051\n",
    "    \n",
    "auth = tweepy.OAuthHandler(consumer_key, consumer_secret)\n",
    "auth.set_access_token(access_token, access_token_secret)\n",
    " \n",
    "# SET OBJECT AND AUTHENTICATE\n",
    "api = tweepy.API(auth)\n",
    "\n",
    "myId = input(\"Enter your Twitter handle without including the @ symbol\")\n",
    "test = api.followers_ids(myId)\n",
    "for p in range(0,len(test)):\n",
    "    u = api.get_user(test[p])\n",
    "    uid = u.screen_name\n",
    "    print(uid)"
   ]
  }
 ],
 "metadata": {
  "kernelspec": {
   "display_name": "Python 3",
   "language": "python",
   "name": "python3"
  },
  "language_info": {
   "codemirror_mode": {
    "name": "ipython",
    "version": 3
   },
   "file_extension": ".py",
   "mimetype": "text/x-python",
   "name": "python",
   "nbconvert_exporter": "python",
   "pygments_lexer": "ipython3",
   "version": "3.7.6"
  }
 },
 "nbformat": 4,
 "nbformat_minor": 4
}
